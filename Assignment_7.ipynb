{
 "cells": [
  {
   "cell_type": "code",
   "execution_count": 17,
   "metadata": {},
   "outputs": [
    {
     "name": "stdout",
     "output_type": "stream",
     "text": [
      "('28', ' Private', '338409', ' Bachelors', '13', ' Married-civ-spouse', ' Prof-specialty', ' Wife', ' Black', ' Female', '0', '0', '40', ' Cuba', ' <=50K')\n"
     ]
    }
   ],
   "source": [
    "import csv\n",
    "import sqlite3\n",
    "import pandas as pd\n",
    "from pandas import DataFrame, Series\n",
    "import numpy as np\n",
    "\n",
    "from pandasql import sqldf\n",
    "pysqldf = lambda q: sqldf(q, globals())\n",
    "url = 'https://archive.ics.uci.edu/ml/machine-learning-databases/adult/adult.data'\n",
    "sqladb = pd.read_csv(url)\n",
    "sqladb.head(10)\n",
    "# saving the dataframe \n",
    "sqladb.to_csv(r'C:\\Users\\Administrator\\DGildClassworks\\7_Acadgild 01-12-2018\\sample.csv', index=False)\n",
    "\n",
    "\n",
    "#Load data from sample.csv to table\n",
    "table_data = csv.reader('sample.csv')\n",
    "#for row in table_data:\n",
    "    #cursor.execute('INSERT INTO adult VALUES(\"%s\", \"%s\", \"%s\", \"%s\", \"%s\", \"%s\", \"%s\", \"%s\", \"%s\", \"%s\", \"%s\", \"%s\", \"%s\", \"%s\", \"%s\")',row)\n",
    "\n",
    "# Establishing a conenction\n",
    "connection = sqlite3.connect(':memory:')\n",
    "cursor = connection.cursor()\n",
    "\n",
    "# check if the DB name exists\n",
    "with connection:\n",
    "    cursor.execute('''CREATE TABLE IF NOT EXISTS adult (\n",
    "            age int,\n",
    "            workclass varchar(40),\n",
    "            fnlwgt int,\n",
    "            education varchar(40),\n",
    "            education_num int,\n",
    "            marital_status varchar(40),\n",
    "            occupation varchar(20),\n",
    "            relationship varchar(40),\n",
    "            race varchar(20),\n",
    "            sex varchar(10),\n",
    "            capital_gain int,\n",
    "            capital_loss int,\n",
    "            hours_per_week int,\n",
    "            native_country varchar(50),\n",
    "            label varchar(10))''')\n",
    "    \n",
    "    table_data = csv.reader('sample.csv')\n",
    "\n",
    "with open('sample.csv','r') as csvfile:\n",
    "    M1 = list(csv.reader(csvfile, delimiter=','))\n",
    "    M = tuple(M1)\n",
    "print(tuple(M1[4]))\n",
    "\n",
    "#td_list = list(table_data)\n",
    "#print(td_list)\n",
    "#sql = \"insert into adult(age, workclass, fnlwgt, education, education_num, marital_status, occupation, relationship, race, sex, capital_gain, capital_loss, hours_per_week, native_country, label) values (%d, '%s', %d, '%s', %d, '%s', '%s', '%s', '%s', '%s', %d, %d, %d, '%s', '%s');\"\n",
    "sql = \"insert into adult(age, workclass, fnlwgt, education, education_num, marital_status, occupation, relationship, race, sex, capital_gain, capital_loss, hours_per_week, native_country, label) values ('%s', '%s', '%s', '%s', '%s', '%s', '%s', '%s', '%s', '%s', '%s', '%s', '%s', '%s', '%s');\"\n",
    "\n",
    "for (age, workclass, fnlwgt, education, education_num, marital_status, occupation, relationship, race, sex, capital_gain, capital_loss, hours_per_week, native_country, label) in M:\n",
    "    cursor.execute(sql % (age, workclass, fnlwgt, education, education_num, marital_status, occupation, relationship, race, sex, capital_gain, capital_loss, hours_per_week, native_country, label))"
   ]
  },
  {
   "cell_type": "code",
   "execution_count": 23,
   "metadata": {},
   "outputs": [
    {
     "name": "stdout",
     "output_type": "stream",
     "text": [
      "(39, ' State-gov', 77516, ' Bachelors', 13, ' Never-married', ' Adm-clerical', ' Not-in-family', ' White', ' Male', 2174, 0, 40, ' United-States', ' <=50K')\n",
      "(50, ' Self-emp-not-inc', 83311, ' Bachelors', 13, ' Married-civ-spouse', ' Exec-managerial', ' Husband', ' White', ' Male', 0, 0, 13, ' United-States', ' <=50K')\n",
      "(38, ' Private', 215646, ' HS-grad', 9, ' Divorced', ' Handlers-cleaners', ' Not-in-family', ' White', ' Male', 0, 0, 40, ' United-States', ' <=50K')\n",
      "(53, ' Private', 234721, ' 11th', 7, ' Married-civ-spouse', ' Handlers-cleaners', ' Husband', ' Black', ' Male', 0, 0, 40, ' United-States', ' <=50K')\n",
      "(28, ' Private', 338409, ' Bachelors', 13, ' Married-civ-spouse', ' Prof-specialty', ' Wife', ' Black', ' Female', 0, 0, 40, ' Cuba', ' <=50K')\n",
      "(37, ' Private', 284582, ' Masters', 14, ' Married-civ-spouse', ' Exec-managerial', ' Wife', ' White', ' Female', 0, 0, 40, ' United-States', ' <=50K')\n",
      "(49, ' Private', 160187, ' 9th', 5, ' Married-spouse-absent', ' Other-service', ' Not-in-family', ' Black', ' Female', 0, 0, 16, ' Jamaica', ' <=50K')\n",
      "(52, ' Self-emp-not-inc', 209642, ' HS-grad', 9, ' Married-civ-spouse', ' Exec-managerial', ' Husband', ' White', ' Male', 0, 0, 45, ' United-States', ' >50K')\n",
      "(31, ' Private', 45781, ' Masters', 14, ' Never-married', ' Prof-specialty', ' Not-in-family', ' White', ' Female', 14084, 0, 50, ' United-States', ' >50K')\n",
      "(42, ' Private', 159449, ' Bachelors', 13, ' Married-civ-spouse', ' Exec-managerial', ' Husband', ' White', ' Male', 5178, 0, 40, ' United-States', ' >50K')\n"
     ]
    }
   ],
   "source": [
    "# 1) Select 10 rows from table\n",
    "import numpy as np\n",
    "cursor.execute(\"SELECT * FROM adult LIMIT 10\")\n",
    "myresult1 = cursor.fetchall()\n",
    "for x in myresult1:\n",
    "    print(x)"
   ]
  },
  {
   "cell_type": "code",
   "execution_count": 43,
   "metadata": {},
   "outputs": [
    {
     "data": {
      "text/plain": [
       "[]"
      ]
     },
     "execution_count": 43,
     "metadata": {},
     "output_type": "execute_result"
    }
   ],
   "source": [
    "# 2) Average hours per week for all man who are working in private sector\n",
    "\n",
    "#cursor.execute(\"SELECT avg(hours_per_week) average_hours_per_week FROM adult WHERE workclass = 'Private'\")\n",
    "#myresult2 = cursor.fetchall()\n",
    "#for x in myresult2:\n",
    "    #print(x)\n",
    "\n",
    "import numpy as np\n",
    "cursor.execute(\"SELECT hours_per_week FROM adult WHERE workclass=='Private'\")\n",
    "myresult2 = cursor.fetchall()\n",
    "[list(y) for y in myresult2]\n",
    "#print(cursor.execute((list(y))))\n",
    "    #return y"
   ]
  },
  {
   "cell_type": "code",
   "execution_count": null,
   "metadata": {},
   "outputs": [],
   "source": [
    "# 3) Show me the frequency table for education, occupation and relationship, separately\n",
    "#    a) education\n",
    "\n",
    "cursor.execute(\"SELECT education, COUNT(education) frequency FROM adult GROUP BY education\")\n",
    "myresult3 = cursor.fetchall()\n",
    "for p in myresult3:\n",
    "print(p)"
   ]
  },
  {
   "cell_type": "code",
   "execution_count": null,
   "metadata": {},
   "outputs": [],
   "source": [
    "#    b) occupation\n",
    "cursor.execute(\"SELECT occupation, COUNT(occupation) frequency FROM adult GROUP BY occupation\")\n",
    "myresult4 = cursor.fetchall()\n",
    "for q in myresult4:\n",
    "print(q)"
   ]
  },
  {
   "cell_type": "code",
   "execution_count": null,
   "metadata": {},
   "outputs": [],
   "source": [
    "#    c) relationship\n",
    "cursor.execute(\"SELECT relationship, COUNT(relationship) frequency FROM adult GROUP BY relationship\")\n",
    "myresult5 = cursor.fetchall()\n",
    "for r in myresult5:\n",
    "print(r)"
   ]
  },
  {
   "cell_type": "code",
   "execution_count": null,
   "metadata": {},
   "outputs": [],
   "source": [
    "# 4) Are there any people who are married, working in private sector and having a masters degree \n",
    "\n",
    "cursor.execute(\"SELECT IF(count > 0, 'Yes', 'No') _exist FROM (SELECT COUNT(marital_status) count FROM adult WHERE marital-status IN ('Married-civ-spouse', 'Married-spouse-absent', 'Married-AF-spouse')) alias \")\n",
    "myresult6 = cursor.fetchall()\n",
    "for b in myresult6:\n",
    "print(b)"
   ]
  },
  {
   "cell_type": "code",
   "execution_count": null,
   "metadata": {},
   "outputs": [],
   "source": [
    "# 5) What is the average, minimum and maximum age group for people working in different sectors\n",
    "\n",
    "cursor.execute(\"SELECT workclass as sector, AVG(age) averageAge, MIN(age) minAge, MAX(age) maxAge  FROM adult GROUP BY workclass\")\n",
    "myresult7 = cursor.fetchall()\n",
    "for c in myresult7:\n",
    "print(c)"
   ]
  },
  {
   "cell_type": "code",
   "execution_count": null,
   "metadata": {},
   "outputs": [],
   "source": [
    "# 6) Calculate age distribution by country\n",
    "\n",
    "cursor.execute(\"SELECT age, COUNT(age) frequency FROM adult GROUP BY native_country\")\n",
    "myresult8 = cursor.fetchall()\n",
    "for d in myresult8:\n",
    "print(d)"
   ]
  },
  {
   "cell_type": "code",
   "execution_count": null,
   "metadata": {},
   "outputs": [],
   "source": [
    "# 7) Compute a new column as 'Net-Capital-Gain' from the two columns 'capital-gain' and 'capital-loss'\n",
    "\n",
    "q = \"\"\"SELECT\n",
    "            SUB(capital_gain, capital_loss) as Net_Capital_Gain\n",
    "           FROM\n",
    "              adult\n",
    "           GROUP BY\n",
    "              occupation\n",
    "              LIMIT 5;\"\"\"\n",
    "cursor.execute(q)\n",
    "myresult9 = cursor.fetchall()\n",
    "for e in myresult9:\n",
    "print(e)"
   ]
  },
  {
   "cell_type": "code",
   "execution_count": null,
   "metadata": {},
   "outputs": [],
   "source": [
    "# Task 2:\n",
    "\n",
    "# Read the following data set:\n",
    "# https://archive.ics.uci.edu/ml/machine-learning-databases/adult/adult.data\n",
    "\n",
    "# 1. Create an sqlalchemy engine using a sample from the data set\n",
    "import sqlalchemy\n",
    "sqlalchemy.__version__"
   ]
  },
  {
   "cell_type": "code",
   "execution_count": null,
   "metadata": {},
   "outputs": [],
   "source": [
    "from sqlalchemy import create_engine"
   ]
  },
  {
   "cell_type": "code",
   "execution_count": null,
   "metadata": {},
   "outputs": [],
   "source": [
    "engine = create_engine('sqlite:///:memory:', echo=True)"
   ]
  },
  {
   "cell_type": "code",
   "execution_count": null,
   "metadata": {},
   "outputs": [],
   "source": [
    "from sqlalchemy.ext.declarative import declarative_base"
   ]
  },
  {
   "cell_type": "code",
   "execution_count": null,
   "metadata": {},
   "outputs": [],
   "source": [
    "Base = declarative_base()\n",
    "Base\n",
    "\n",
    "# Ref: https://docs.sqlalchemy.org/en/latest/core/dml.html\n",
    "\n",
    "from sqlalchemy import Column, Integer, String\n",
    "class User(Base):\n",
    "...     __tablename__ = 'users'\n",
    "...     age = Column(Integer, primary_key=True),\n",
    "        workclass = Column(String),\n",
    "        fnlwgt = Column(Integer),\n",
    "        education = Column(String),\n",
    "        education_num = Column(Integer),\n",
    "        marital_status = Column(String),\n",
    "        occupation = Column(String),\n",
    "        relationship = Column(String),\n",
    "        race = Column(String),\n",
    "        sex = Column(String),\n",
    "        capital_gain = Column(Integer),\n",
    "        capital_loss = Column(Integer),\n",
    "        hours_per_week = Column(Integer),\n",
    "        native_country = Column(String),\n",
    "        label = Column(String)\n",
    "...\n",
    "...     def __repr__(self):\n",
    "...        return \"<User(name='%s', fullname='%s', password='%s')>\" % (\n",
    "...                             self.workclass, self.fnlwgt, self.education, self.education_num, self.marital_status, self.occupation, self.relationship, self.race, self.sex, self.capital_gain, self.capital_loss, self.hours_per_week, self.native_country, self.label)\n"
   ]
  },
  {
   "cell_type": "code",
   "execution_count": null,
   "metadata": {},
   "outputs": [],
   "source": [
    "User.__table__"
   ]
  },
  {
   "cell_type": "code",
   "execution_count": null,
   "metadata": {},
   "outputs": [],
   "source": [
    "Base.metadata.create_all(engine)\n",
    "\n",
    "from sqlalchemy.orm import sessionmaker\n",
    "Session = sessionmaker(bind=engine)\n",
    "Session = sessionmaker()\n",
    "#when you create your engine with create_engine(), connect it to the Session using configure()\n",
    "Session.configure(bind=engine)\n",
    "session = Session()"
   ]
  },
  {
   "cell_type": "code",
   "execution_count": null,
   "metadata": {},
   "outputs": [],
   "source": [
    "# 2. Write two basic update queries\n",
    "ed_user = User(age=27, workclass='gradeA', fnlwgt=41, education='M.Tech', education_num=4, marital_status='Unmarried', occupation='Sr. AE', relationship='Friend',\n",
    "              race='Asian', sex='M', capital_gain=1000, capital_loss=56, hours_per_week=40, native_country='India', label='>34')\n",
    "session.add(ed_user)\n",
    "\n",
    "ed_user = User(age=30, workclass='gradeA+', fnlwgt=45, education='M.Tech', education_num=4, marital_status='Unmarried', occupation='Sr. AE', relationship='Friend',\n",
    "              race='Asian', sex='M', capital_gain=5000, capital_loss=56, hours_per_week=46, native_country='India', label='>35')\n",
    "session.add(ed_user)\n",
    "\n",
    "# 3. Write two delete queries\n",
    "User.query.filter(User.age == 30).delete()\n",
    "\n",
    "User.query.filter(User.education_num == 4).delete()\n",
    "\n",
    "# 4. Write two filter queries\n",
    "our_user = session.query(User).filter_by(workclass='gradeA').first()\n",
    "our_user\n",
    "\n",
    "our_user = session.query(User).filter_by(race='Asian').first()\n",
    "our_user\n",
    "\n",
    "# 5. Write two function queries\n",
    "from sqlalchemy import func\n",
    "\n",
    "session.query(func.count(User.education), User.education).group_by(User.education).all()\n",
    "\n",
    "session.query(func.count('*')).select_from(User).scalar()\n",
    "\n",
    "session.query(func.count(User.hours_per_week)).scalar()\n",
    "\n",
    "\n",
    "session.commit()"
   ]
  }
 ],
 "metadata": {
  "kernelspec": {
   "display_name": "Python 2",
   "language": "python",
   "name": "python2"
  },
  "language_info": {
   "codemirror_mode": {
    "name": "ipython",
    "version": 2
   },
   "file_extension": ".py",
   "mimetype": "text/x-python",
   "name": "python",
   "nbconvert_exporter": "python",
   "pygments_lexer": "ipython2",
   "version": "2.7.15"
  }
 },
 "nbformat": 4,
 "nbformat_minor": 2
}
